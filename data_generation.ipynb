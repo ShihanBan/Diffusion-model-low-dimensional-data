{
 "cells": [
  {
   "cell_type": "code",
   "execution_count": 21,
   "metadata": {},
   "outputs": [],
   "source": [
    "## data generation\n",
    "import sys, os\n",
    "import matplotlib.pyplot as plt\n",
    "sys.path.insert(0, os.getcwd())\n",
    "\n"
   ]
  },
  {
   "cell_type": "code",
   "execution_count": 19,
   "metadata": {},
   "outputs": [
    {
     "name": "stdout",
     "output_type": "stream",
     "text": [
      "Collecting optax==0.1.7\n",
      "  Downloading optax-0.1.7-py3-none-any.whl.metadata (13 kB)\n",
      "Requirement already satisfied: absl-py>=0.7.1 in /Users/banshihan/miniconda3/envs/pycourse/lib/python3.8/site-packages (from optax==0.1.7) (2.1.0)\n",
      "Requirement already satisfied: chex>=0.1.5 in /Users/banshihan/miniconda3/envs/pycourse/lib/python3.8/site-packages (from optax==0.1.7) (0.1.7)\n",
      "Requirement already satisfied: jax>=0.1.55 in /Users/banshihan/miniconda3/envs/pycourse/lib/python3.8/site-packages (from optax==0.1.7) (0.4.13)\n",
      "Requirement already satisfied: jaxlib>=0.1.37 in /Users/banshihan/miniconda3/envs/pycourse/lib/python3.8/site-packages (from optax==0.1.7) (0.4.13)\n",
      "Requirement already satisfied: numpy>=1.18.0 in /Users/banshihan/miniconda3/envs/pycourse/lib/python3.8/site-packages (from optax==0.1.7) (1.24.3)\n",
      "Requirement already satisfied: dm-tree>=0.1.5 in /Users/banshihan/miniconda3/envs/pycourse/lib/python3.8/site-packages (from chex>=0.1.5->optax==0.1.7) (0.1.8)\n",
      "Requirement already satisfied: toolz>=0.9.0 in /Users/banshihan/miniconda3/envs/pycourse/lib/python3.8/site-packages (from chex>=0.1.5->optax==0.1.7) (1.0.0)\n",
      "Requirement already satisfied: typing-extensions>=4.2.0 in /Users/banshihan/miniconda3/envs/pycourse/lib/python3.8/site-packages (from chex>=0.1.5->optax==0.1.7) (4.11.0)\n",
      "Requirement already satisfied: ml-dtypes>=0.1.0 in /Users/banshihan/miniconda3/envs/pycourse/lib/python3.8/site-packages (from jax>=0.1.55->optax==0.1.7) (0.2.0)\n",
      "Requirement already satisfied: opt-einsum in /Users/banshihan/miniconda3/envs/pycourse/lib/python3.8/site-packages (from jax>=0.1.55->optax==0.1.7) (3.3.0)\n",
      "Requirement already satisfied: scipy>=1.7 in /Users/banshihan/miniconda3/envs/pycourse/lib/python3.8/site-packages (from jax>=0.1.55->optax==0.1.7) (1.10.1)\n",
      "Requirement already satisfied: importlib-metadata>=4.6 in /Users/banshihan/miniconda3/envs/pycourse/lib/python3.8/site-packages (from jax>=0.1.55->optax==0.1.7) (6.8.0)\n",
      "Requirement already satisfied: zipp>=0.5 in /Users/banshihan/miniconda3/envs/pycourse/lib/python3.8/site-packages (from importlib-metadata>=4.6->jax>=0.1.55->optax==0.1.7) (3.11.0)\n",
      "Downloading optax-0.1.7-py3-none-any.whl (154 kB)\n",
      "Installing collected packages: optax\n",
      "  Attempting uninstall: optax\n",
      "    Found existing installation: optax 0.1.8\n",
      "    Uninstalling optax-0.1.8:\n",
      "      Successfully uninstalled optax-0.1.8\n",
      "Successfully installed optax-0.1.7\n",
      "Note: you may need to restart the kernel to use updated packages.\n"
     ]
    }
   ],
   "source": [
    "pip install optax==0.1.7\n"
   ]
  },
  {
   "cell_type": "code",
   "execution_count": 3,
   "metadata": {},
   "outputs": [
    {
     "name": "stdout",
     "output_type": "stream",
     "text": [
      "Collecting opencv-python\n",
      "  Downloading opencv_python-4.11.0.86-cp37-abi3-macosx_13_0_arm64.whl.metadata (20 kB)\n",
      "Requirement already satisfied: numpy>=1.21.0 in /Users/banshihan/miniconda3/envs/pycourse/lib/python3.8/site-packages (from opencv-python) (1.24.3)\n",
      "Downloading opencv_python-4.11.0.86-cp37-abi3-macosx_13_0_arm64.whl (37.3 MB)\n",
      "\u001b[2K   \u001b[90m━━━━━━━━━━━━━━━━━━━━━━━━━━━━━━━━━━━━━━━━\u001b[0m \u001b[32m37.3/37.3 MB\u001b[0m \u001b[31m3.7 MB/s\u001b[0m eta \u001b[36m0:00:00\u001b[0m00:01\u001b[0m00:01\u001b[0m\n",
      "\u001b[?25hInstalling collected packages: opencv-python\n",
      "Successfully installed opencv-python-4.11.0.86\n",
      "Note: you may need to restart the kernel to use updated packages.\n"
     ]
    }
   ],
   "source": [
    "pip install opencv-python\n"
   ]
  },
  {
   "cell_type": "code",
   "execution_count": 4,
   "metadata": {},
   "outputs": [
    {
     "name": "stdout",
     "output_type": "stream",
     "text": [
      "Requirement already satisfied: numpy in /Users/banshihan/miniconda3/envs/pycourse/lib/python3.8/site-packages (1.24.3)\n"
     ]
    }
   ],
   "source": [
    "!python3 -m venv .venv\n",
    "!source .venv/bin/activate      # (Windows PowerShell: .\\.venv\\Scripts\\Activate.ps1)\n",
    "!pip install numpy\n"
   ]
  },
  {
   "cell_type": "code",
   "execution_count": 6,
   "metadata": {},
   "outputs": [
    {
     "name": "stdout",
     "output_type": "stream",
     "text": [
      "Collecting jax\n",
      "  Downloading jax-0.4.13.tar.gz (1.3 MB)\n",
      "\u001b[2K     \u001b[90m━━━━━━━━━━━━━━━━━━━━━━━━━━━━━━━━━━━━━━━━\u001b[0m \u001b[32m1.3/1.3 MB\u001b[0m \u001b[31m1.8 MB/s\u001b[0m eta \u001b[36m0:00:00\u001b[0ma \u001b[36m0:00:01\u001b[0m\n",
      "\u001b[?25h  Installing build dependencies ... \u001b[?25ldone\n",
      "\u001b[?25h  Getting requirements to build wheel ... \u001b[?25ldone\n",
      "\u001b[?25h  Preparing metadata (pyproject.toml) ... \u001b[?25ldone\n",
      "\u001b[?25hCollecting jaxlib\n",
      "  Downloading jaxlib-0.4.13-cp38-cp38-macosx_11_0_arm64.whl.metadata (2.1 kB)\n",
      "Collecting ml-dtypes>=0.1.0 (from jax)\n",
      "  Downloading ml_dtypes-0.2.0-cp38-cp38-macosx_10_9_universal2.whl.metadata (20 kB)\n",
      "Requirement already satisfied: numpy>=1.21 in /Users/banshihan/miniconda3/envs/pycourse/lib/python3.8/site-packages (from jax) (1.24.3)\n",
      "Requirement already satisfied: opt-einsum in /Users/banshihan/miniconda3/envs/pycourse/lib/python3.8/site-packages (from jax) (3.3.0)\n",
      "Requirement already satisfied: scipy>=1.7 in /Users/banshihan/miniconda3/envs/pycourse/lib/python3.8/site-packages (from jax) (1.10.1)\n",
      "Requirement already satisfied: importlib-metadata>=4.6 in /Users/banshihan/miniconda3/envs/pycourse/lib/python3.8/site-packages (from jax) (6.8.0)\n",
      "Requirement already satisfied: zipp>=0.5 in /Users/banshihan/miniconda3/envs/pycourse/lib/python3.8/site-packages (from importlib-metadata>=4.6->jax) (3.11.0)\n",
      "Downloading jaxlib-0.4.13-cp38-cp38-macosx_11_0_arm64.whl (60.5 MB)\n",
      "\u001b[2K   \u001b[90m━━━━━━━━━━━━━━━━━━━━━━━━━━━━━━━━━━━━━━━━\u001b[0m \u001b[32m60.5/60.5 MB\u001b[0m \u001b[31m2.7 MB/s\u001b[0m eta \u001b[36m0:00:00\u001b[0m00:01\u001b[0m00:01\u001b[0m\n",
      "\u001b[?25hDownloading ml_dtypes-0.2.0-cp38-cp38-macosx_10_9_universal2.whl (1.2 MB)\n",
      "\u001b[2K   \u001b[90m━━━━━━━━━━━━━━━━━━━━━━━━━━━━━━━━━━━━━━━━\u001b[0m \u001b[32m1.2/1.2 MB\u001b[0m \u001b[31m4.5 MB/s\u001b[0m eta \u001b[36m0:00:00\u001b[0ma \u001b[36m0:00:01\u001b[0m\n",
      "\u001b[?25hBuilding wheels for collected packages: jax\n",
      "  Building wheel for jax (pyproject.toml) ... \u001b[?25ldone\n",
      "\u001b[?25h  Created wheel for jax: filename=jax-0.4.13-py3-none-any.whl size=1518704 sha256=dbbf3d3b2dbd69848959967f299880ebf4e58e8b674b4b5c360ba5b778de3c51\n",
      "  Stored in directory: /Users/banshihan/Library/Caches/pip/wheels/46/d9/15/d2800d4089dc4c77299ac7513c6aa1036f5491edbd2bf6ba16\n",
      "Successfully built jax\n",
      "Installing collected packages: ml-dtypes, jaxlib, jax\n",
      "Successfully installed jax-0.4.13 jaxlib-0.4.13 ml-dtypes-0.2.0\n",
      "Note: you may need to restart the kernel to use updated packages.\n"
     ]
    }
   ],
   "source": [
    "pip install -U jax jaxlib\n"
   ]
  },
  {
   "cell_type": "code",
   "execution_count": 7,
   "metadata": {},
   "outputs": [
    {
     "name": "stdout",
     "output_type": "stream",
     "text": [
      "Collecting flax\n",
      "  Downloading flax-0.7.2-py3-none-any.whl.metadata (10.0 kB)\n",
      "Requirement already satisfied: numpy>=1.12 in /Users/banshihan/miniconda3/envs/pycourse/lib/python3.8/site-packages (from flax) (1.24.3)\n",
      "Requirement already satisfied: jax>=0.4.2 in /Users/banshihan/miniconda3/envs/pycourse/lib/python3.8/site-packages (from flax) (0.4.13)\n",
      "Collecting msgpack (from flax)\n",
      "  Downloading msgpack-1.1.0.tar.gz (167 kB)\n",
      "  Installing build dependencies ... \u001b[?25ldone\n",
      "\u001b[?25h  Getting requirements to build wheel ... \u001b[?25ldone\n",
      "\u001b[?25h  Preparing metadata (pyproject.toml) ... \u001b[?25ldone\n",
      "\u001b[?25hCollecting optax (from flax)\n",
      "  Downloading optax-0.1.8-py3-none-any.whl.metadata (14 kB)\n",
      "Collecting orbax-checkpoint (from flax)\n",
      "  Downloading orbax_checkpoint-0.2.3-py3-none-any.whl.metadata (1.8 kB)\n",
      "Collecting tensorstore (from flax)\n",
      "  Downloading tensorstore-0.1.45-cp38-cp38-macosx_11_0_arm64.whl.metadata (2.9 kB)\n",
      "Collecting rich>=11.1 (from flax)\n",
      "  Downloading rich-14.0.0-py3-none-any.whl.metadata (18 kB)\n",
      "Requirement already satisfied: typing-extensions>=4.1.1 in /Users/banshihan/miniconda3/envs/pycourse/lib/python3.8/site-packages (from flax) (4.11.0)\n",
      "Requirement already satisfied: PyYAML>=5.4.1 in /Users/banshihan/miniconda3/envs/pycourse/lib/python3.8/site-packages (from flax) (6.0.1)\n",
      "Requirement already satisfied: ml-dtypes>=0.1.0 in /Users/banshihan/miniconda3/envs/pycourse/lib/python3.8/site-packages (from jax>=0.4.2->flax) (0.2.0)\n",
      "Requirement already satisfied: opt-einsum in /Users/banshihan/miniconda3/envs/pycourse/lib/python3.8/site-packages (from jax>=0.4.2->flax) (3.3.0)\n",
      "Requirement already satisfied: scipy>=1.7 in /Users/banshihan/miniconda3/envs/pycourse/lib/python3.8/site-packages (from jax>=0.4.2->flax) (1.10.1)\n",
      "Requirement already satisfied: importlib-metadata>=4.6 in /Users/banshihan/miniconda3/envs/pycourse/lib/python3.8/site-packages (from jax>=0.4.2->flax) (6.8.0)\n",
      "Collecting markdown-it-py>=2.2.0 (from rich>=11.1->flax)\n",
      "  Downloading markdown_it_py-3.0.0-py3-none-any.whl.metadata (6.9 kB)\n",
      "Requirement already satisfied: pygments<3.0.0,>=2.13.0 in /Users/banshihan/miniconda3/envs/pycourse/lib/python3.8/site-packages (from rich>=11.1->flax) (2.15.1)\n",
      "Requirement already satisfied: absl-py>=0.7.1 in /Users/banshihan/miniconda3/envs/pycourse/lib/python3.8/site-packages (from optax->flax) (2.1.0)\n",
      "Collecting chex>=0.1.7 (from optax->flax)\n",
      "  Downloading chex-0.1.7-py3-none-any.whl.metadata (17 kB)\n",
      "Requirement already satisfied: jaxlib>=0.1.37 in /Users/banshihan/miniconda3/envs/pycourse/lib/python3.8/site-packages (from optax->flax) (0.4.13)\n",
      "Collecting cached_property (from orbax-checkpoint->flax)\n",
      "  Downloading cached_property-2.0.1-py3-none-any.whl.metadata (10 kB)\n",
      "Requirement already satisfied: importlib_resources in /Users/banshihan/miniconda3/envs/pycourse/lib/python3.8/site-packages (from orbax-checkpoint->flax) (5.2.0)\n",
      "Collecting etils (from orbax-checkpoint->flax)\n",
      "  Downloading etils-1.3.0-py3-none-any.whl.metadata (5.5 kB)\n",
      "Requirement already satisfied: nest_asyncio in /Users/banshihan/miniconda3/envs/pycourse/lib/python3.8/site-packages (from orbax-checkpoint->flax) (1.5.6)\n",
      "Collecting dm-tree>=0.1.5 (from chex>=0.1.7->optax->flax)\n",
      "  Downloading dm_tree-0.1.8-cp38-cp38-macosx_11_0_arm64.whl.metadata (1.9 kB)\n",
      "Collecting toolz>=0.9.0 (from chex>=0.1.7->optax->flax)\n",
      "  Downloading toolz-1.0.0-py3-none-any.whl.metadata (5.1 kB)\n",
      "Requirement already satisfied: zipp>=0.5 in /Users/banshihan/miniconda3/envs/pycourse/lib/python3.8/site-packages (from importlib-metadata>=4.6->jax>=0.4.2->flax) (3.11.0)\n",
      "Collecting mdurl~=0.1 (from markdown-it-py>=2.2.0->rich>=11.1->flax)\n",
      "  Downloading mdurl-0.1.2-py3-none-any.whl.metadata (1.6 kB)\n",
      "Downloading flax-0.7.2-py3-none-any.whl (226 kB)\n",
      "Downloading rich-14.0.0-py3-none-any.whl (243 kB)\n",
      "Downloading optax-0.1.8-py3-none-any.whl (199 kB)\n",
      "Downloading orbax_checkpoint-0.2.3-py3-none-any.whl (81 kB)\n",
      "Downloading tensorstore-0.1.45-cp38-cp38-macosx_11_0_arm64.whl (12.4 MB)\n",
      "\u001b[2K   \u001b[90m━━━━━━━━━━━━━━━━━━━━━━━━━━━━━━━━━━━━━━━━\u001b[0m \u001b[32m12.4/12.4 MB\u001b[0m \u001b[31m2.9 MB/s\u001b[0m eta \u001b[36m0:00:00\u001b[0ma \u001b[36m0:00:01\u001b[0mm\n",
      "\u001b[?25hDownloading chex-0.1.7-py3-none-any.whl (89 kB)\n",
      "Downloading markdown_it_py-3.0.0-py3-none-any.whl (87 kB)\n",
      "Downloading cached_property-2.0.1-py3-none-any.whl (7.4 kB)\n",
      "Downloading etils-1.3.0-py3-none-any.whl (126 kB)\n",
      "Downloading dm_tree-0.1.8-cp38-cp38-macosx_11_0_arm64.whl (110 kB)\n",
      "Downloading mdurl-0.1.2-py3-none-any.whl (10.0 kB)\n",
      "Downloading toolz-1.0.0-py3-none-any.whl (56 kB)\n",
      "Building wheels for collected packages: msgpack\n",
      "  Building wheel for msgpack (pyproject.toml) ... \u001b[?25ldone\n",
      "\u001b[?25h  Created wheel for msgpack: filename=msgpack-1.1.0-cp38-cp38-macosx_11_0_arm64.whl size=83182 sha256=9112e7a38080ae0a7a091a1b5f45fd30e3db31545714ee284be90eb489cdab0a\n",
      "  Stored in directory: /Users/banshihan/Library/Caches/pip/wheels/55/aa/93/797450f0b3d3ac6906a2a32306efbb304940a5a8eb5bdff767\n",
      "Successfully built msgpack\n",
      "Installing collected packages: dm-tree, toolz, tensorstore, msgpack, mdurl, etils, cached_property, markdown-it-py, rich, orbax-checkpoint, chex, optax, flax\n",
      "Successfully installed cached_property-2.0.1 chex-0.1.7 dm-tree-0.1.8 etils-1.3.0 flax-0.7.2 markdown-it-py-3.0.0 mdurl-0.1.2 msgpack-1.1.0 optax-0.1.8 orbax-checkpoint-0.2.3 rich-14.0.0 tensorstore-0.1.45 toolz-1.0.0\n",
      "Note: you may need to restart the kernel to use updated packages.\n"
     ]
    }
   ],
   "source": [
    "pip install flax\n"
   ]
  },
  {
   "cell_type": "markdown",
   "metadata": {},
   "source": [
    "## Linear Case"
   ]
  },
  {
   "cell_type": "code",
   "execution_count": 17,
   "metadata": {},
   "outputs": [],
   "source": [
    "from datasets import LinearGaussianDataset, SigmoidDataset, SphereDataset\n",
    "import numpy as np\n",
    "\n",
    "# 设置随机种子\n",
    "seed = 42\n",
    "\n",
    "# 创建数据集实例\n",
    "dataset = LinearGaussianDataset(seed=seed, dimension=2, padding_dimension=1)\n",
    "\n",
    "# 生成数据批次\n",
    "batch_size = 1000\n",
    "data = dataset.get_batch(batch_size)  ##:contentReference[oaicite:22]{index=22}\n",
    "\n",
    "\n"
   ]
  },
  {
   "cell_type": "markdown",
   "metadata": {},
   "source": [
    "## Linear case data preparation"
   ]
  },
  {
   "cell_type": "code",
   "execution_count": null,
   "metadata": {},
   "outputs": [
    {
     "name": "stdout",
     "output_type": "stream",
     "text": [
      "/Users/banshihan/Documents/GitHub/homework-3-ShihanBan/Diffusion-model-low-dimensional-data\n",
      "__init__.py              diffusion_utils.py       \u001b[31mseed_linpadding_expts.sh\u001b[m\u001b[m\n",
      "\u001b[34m__pycache__\u001b[m\u001b[m              \u001b[34mgenerated_data\u001b[m\u001b[m           training.py\n",
      "data_generation.ipynb    model.py                 utils.py\n",
      "datasets.py              networks.py\n",
      "diffusion.py             run.py\n"
     ]
    }
   ],
   "source": [
    "!pwd  # 看你当前在哪\n",
    "!ls   # 确保能看到 seed_linpadding_expts.sh 和 run.py\n"
   ]
  },
  {
   "cell_type": "code",
   "execution_count": 18,
   "metadata": {},
   "outputs": [
    {
     "ename": "TypeError",
     "evalue": "'type' object is not subscriptable",
     "output_type": "error",
     "traceback": [
      "\u001b[0;31m---------------------------------------------------------------------------\u001b[0m",
      "\u001b[0;31mTypeError\u001b[0m                                 Traceback (most recent call last)",
      "Cell \u001b[0;32mIn[18], line 10\u001b[0m\n\u001b[1;32m      7\u001b[0m \u001b[38;5;28;01mimport\u001b[39;00m \u001b[38;5;21;01msys\u001b[39;00m\n\u001b[1;32m      8\u001b[0m sys\u001b[38;5;241m.\u001b[39mpath\u001b[38;5;241m.\u001b[39mappend(\u001b[38;5;124m'\u001b[39m\u001b[38;5;124m..\u001b[39m\u001b[38;5;124m'\u001b[39m)  \n\u001b[0;32m---> 10\u001b[0m \u001b[38;5;28;01mfrom\u001b[39;00m \u001b[38;5;21;01mdiffusion_model\u001b[39;00m \u001b[38;5;28;01mimport\u001b[39;00m UNet, GaussianDiffusion\n\u001b[1;32m     11\u001b[0m \u001b[38;5;28;01mfrom\u001b[39;00m \u001b[38;5;21;01mdatasets\u001b[39;00m \u001b[38;5;28;01mimport\u001b[39;00m SphereDataset, LinearGaussianDataset, SigmoidDataset\n\u001b[1;32m     12\u001b[0m \u001b[38;5;28;01mfrom\u001b[39;00m \u001b[38;5;21;01mutils\u001b[39;00m \u001b[38;5;28;01mimport\u001b[39;00m manifold_error, save_samples\n",
      "File \u001b[0;32m~/Documents/GitHub/homework-3-ShihanBan/Diffusion-model-low-dimensional-data/diffusion_model.py:4\u001b[0m\n\u001b[1;32m      2\u001b[0m \u001b[38;5;28;01mimport\u001b[39;00m \u001b[38;5;21;01mjax\u001b[39;00m\u001b[38;5;21;01m.\u001b[39;00m\u001b[38;5;21;01mnumpy\u001b[39;00m \u001b[38;5;28;01mas\u001b[39;00m \u001b[38;5;21;01mjnp\u001b[39;00m\n\u001b[1;32m      3\u001b[0m \u001b[38;5;28;01mfrom\u001b[39;00m \u001b[38;5;21;01mflax\u001b[39;00m \u001b[38;5;28;01mimport\u001b[39;00m linen \u001b[38;5;28;01mas\u001b[39;00m nn\n\u001b[0;32m----> 4\u001b[0m \u001b[38;5;28;01mimport\u001b[39;00m \u001b[38;5;21;01moptax\u001b[39;00m\n\u001b[1;32m      5\u001b[0m \u001b[38;5;28;01mfrom\u001b[39;00m \u001b[38;5;21;01mtyping\u001b[39;00m \u001b[38;5;28;01mimport\u001b[39;00m Any, Callable, Sequence, Tuple\n\u001b[1;32m      7\u001b[0m \u001b[38;5;66;03m# -----------------------------------\u001b[39;00m\n\u001b[1;32m      8\u001b[0m \u001b[38;5;66;03m# Noise scheduler (beta schedule)\u001b[39;00m\n\u001b[1;32m      9\u001b[0m \u001b[38;5;66;03m# -----------------------------------\u001b[39;00m\n",
      "File \u001b[0;32m~/miniconda3/envs/pycourse/lib/python3.8/site-packages/optax/__init__.py:17\u001b[0m\n\u001b[1;32m      1\u001b[0m \u001b[38;5;66;03m# Copyright 2019 DeepMind Technologies Limited. All Rights Reserved.\u001b[39;00m\n\u001b[1;32m      2\u001b[0m \u001b[38;5;66;03m#\u001b[39;00m\n\u001b[1;32m      3\u001b[0m \u001b[38;5;66;03m# Licensed under the Apache License, Version 2.0 (the \"License\");\u001b[39;00m\n\u001b[0;32m   (...)\u001b[0m\n\u001b[1;32m     13\u001b[0m \u001b[38;5;66;03m# limitations under the License.\u001b[39;00m\n\u001b[1;32m     14\u001b[0m \u001b[38;5;66;03m# ==============================================================================\u001b[39;00m\n\u001b[1;32m     15\u001b[0m \u001b[38;5;124;03m\"\"\"Optax: composable gradient processing and optimization, in JAX.\"\"\"\u001b[39;00m\n\u001b[0;32m---> 17\u001b[0m \u001b[38;5;28;01mfrom\u001b[39;00m \u001b[38;5;21;01moptax\u001b[39;00m \u001b[38;5;28;01mimport\u001b[39;00m contrib\n\u001b[1;32m     18\u001b[0m \u001b[38;5;28;01mfrom\u001b[39;00m \u001b[38;5;21;01moptax\u001b[39;00m \u001b[38;5;28;01mimport\u001b[39;00m losses\n\u001b[1;32m     19\u001b[0m \u001b[38;5;28;01mfrom\u001b[39;00m \u001b[38;5;21;01moptax\u001b[39;00m \u001b[38;5;28;01mimport\u001b[39;00m monte_carlo\n",
      "File \u001b[0;32m~/miniconda3/envs/pycourse/lib/python3.8/site-packages/optax/contrib/__init__.py:21\u001b[0m\n\u001b[1;32m     19\u001b[0m \u001b[38;5;28;01mfrom\u001b[39;00m \u001b[38;5;21;01moptax\u001b[39;00m\u001b[38;5;21;01m.\u001b[39;00m\u001b[38;5;21;01mcontrib\u001b[39;00m\u001b[38;5;21;01m.\u001b[39;00m\u001b[38;5;21;01mcomplex_valued\u001b[39;00m \u001b[38;5;28;01mimport\u001b[39;00m split_real_and_imaginary\n\u001b[1;32m     20\u001b[0m \u001b[38;5;28;01mfrom\u001b[39;00m \u001b[38;5;21;01moptax\u001b[39;00m\u001b[38;5;21;01m.\u001b[39;00m\u001b[38;5;21;01mcontrib\u001b[39;00m\u001b[38;5;21;01m.\u001b[39;00m\u001b[38;5;21;01mcomplex_valued\u001b[39;00m \u001b[38;5;28;01mimport\u001b[39;00m SplitRealAndImaginaryState\n\u001b[0;32m---> 21\u001b[0m \u001b[38;5;28;01mfrom\u001b[39;00m \u001b[38;5;21;01moptax\u001b[39;00m\u001b[38;5;21;01m.\u001b[39;00m\u001b[38;5;21;01mcontrib\u001b[39;00m\u001b[38;5;21;01m.\u001b[39;00m\u001b[38;5;21;01mdadapt_adamw\u001b[39;00m \u001b[38;5;28;01mimport\u001b[39;00m dadapt_adamw\n\u001b[1;32m     22\u001b[0m \u001b[38;5;28;01mfrom\u001b[39;00m \u001b[38;5;21;01moptax\u001b[39;00m\u001b[38;5;21;01m.\u001b[39;00m\u001b[38;5;21;01mcontrib\u001b[39;00m\u001b[38;5;21;01m.\u001b[39;00m\u001b[38;5;21;01mdadapt_adamw\u001b[39;00m \u001b[38;5;28;01mimport\u001b[39;00m DAdaptAdamWState\n\u001b[1;32m     23\u001b[0m \u001b[38;5;28;01mfrom\u001b[39;00m \u001b[38;5;21;01moptax\u001b[39;00m\u001b[38;5;21;01m.\u001b[39;00m\u001b[38;5;21;01mcontrib\u001b[39;00m\u001b[38;5;21;01m.\u001b[39;00m\u001b[38;5;21;01mmechanic\u001b[39;00m \u001b[38;5;28;01mimport\u001b[39;00m MechanicState\n",
      "File \u001b[0;32m~/miniconda3/envs/pycourse/lib/python3.8/site-packages/optax/contrib/dadapt_adamw.py:45\u001b[0m\n\u001b[1;32m     39\u001b[0m   numerator_weighted: chex\u001b[38;5;241m.\u001b[39mArray  \u001b[38;5;66;03m# shape=(), dtype=jnp.float32.\u001b[39;00m\n\u001b[1;32m     40\u001b[0m   count: chex\u001b[38;5;241m.\u001b[39mArray  \u001b[38;5;66;03m# shape=(), dtype=jnp.int32.\u001b[39;00m\n\u001b[1;32m     43\u001b[0m \u001b[38;5;28;01mdef\u001b[39;00m \u001b[38;5;21mdadapt_adamw\u001b[39m(\n\u001b[1;32m     44\u001b[0m     learning_rate: base\u001b[38;5;241m.\u001b[39mScalarOrSchedule \u001b[38;5;241m=\u001b[39m \u001b[38;5;241m1.0\u001b[39m,\n\u001b[0;32m---> 45\u001b[0m     betas: \u001b[38;5;28;43mtuple\u001b[39;49m\u001b[43m[\u001b[49m\u001b[38;5;28;43mfloat\u001b[39;49m\u001b[43m,\u001b[49m\u001b[43m \u001b[49m\u001b[38;5;28;43mfloat\u001b[39;49m\u001b[43m]\u001b[49m \u001b[38;5;241m=\u001b[39m (\u001b[38;5;241m0.9\u001b[39m, \u001b[38;5;241m0.999\u001b[39m),\n\u001b[1;32m     46\u001b[0m     eps: \u001b[38;5;28mfloat\u001b[39m \u001b[38;5;241m=\u001b[39m \u001b[38;5;241m1e-8\u001b[39m,\n\u001b[1;32m     47\u001b[0m     estim_lr0: \u001b[38;5;28mfloat\u001b[39m \u001b[38;5;241m=\u001b[39m \u001b[38;5;241m1e-6\u001b[39m,\n\u001b[1;32m     48\u001b[0m     weight_decay: \u001b[38;5;28mfloat\u001b[39m \u001b[38;5;241m=\u001b[39m \u001b[38;5;241m0.\u001b[39m,\n\u001b[1;32m     49\u001b[0m ) \u001b[38;5;241m-\u001b[39m\u001b[38;5;241m>\u001b[39m base\u001b[38;5;241m.\u001b[39mGradientTransformation:\n\u001b[1;32m     50\u001b[0m \u001b[38;5;250m  \u001b[39m\u001b[38;5;124;03m\"\"\"Learning rate free AdamW by D-Adaptation.\u001b[39;00m\n\u001b[1;32m     51\u001b[0m \n\u001b[1;32m     52\u001b[0m \u001b[38;5;124;03m  Adapts the baseline learning rate of AdamW automatically by estimating the\u001b[39;00m\n\u001b[0;32m   (...)\u001b[0m\n\u001b[1;32m     69\u001b[0m \u001b[38;5;124;03m    A `GradientTransformation` object.\u001b[39;00m\n\u001b[1;32m     70\u001b[0m \u001b[38;5;124;03m  \"\"\"\u001b[39;00m\n\u001b[1;32m     72\u001b[0m   \u001b[38;5;28;01mdef\u001b[39;00m \u001b[38;5;21minit_fn\u001b[39m(params: base\u001b[38;5;241m.\u001b[39mParams) \u001b[38;5;241m-\u001b[39m\u001b[38;5;241m>\u001b[39m DAdaptAdamWState:\n",
      "\u001b[0;31mTypeError\u001b[0m: 'type' object is not subscriptable"
     ]
    }
   ],
   "source": [
    "# cell 1\n",
    "import jax\n",
    "import jax.numpy as jnp\n",
    "import matplotlib.pyplot as plt\n",
    "\n",
    "# 你的项目代码路径，如在上级目录\n",
    "import sys\n",
    "sys.path.append('..')  \n",
    "\n",
    "from diffusion_model import UNet, GaussianDiffusion\n",
    "from datasets import SphereDataset, LinearGaussianDataset, SigmoidDataset\n",
    "from utils import manifold_error, save_samples\n"
   ]
  }
 ],
 "metadata": {
  "kernelspec": {
   "display_name": "Python (pycourse)",
   "language": "python",
   "name": "pycourse"
  },
  "language_info": {
   "codemirror_mode": {
    "name": "ipython",
    "version": 3
   },
   "file_extension": ".py",
   "mimetype": "text/x-python",
   "name": "python",
   "nbconvert_exporter": "python",
   "pygments_lexer": "ipython3",
   "version": "3.8.18"
  }
 },
 "nbformat": 4,
 "nbformat_minor": 2
}
