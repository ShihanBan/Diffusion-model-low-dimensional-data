{
 "cells": [
  {
   "cell_type": "code",
   "execution_count": 1,
   "metadata": {},
   "outputs": [],
   "source": [
    "## data generation\n",
    "import sys, os\n",
    "\n",
    "sys.path.insert(0, os.getcwd())\n",
    "\n"
   ]
  },
  {
   "cell_type": "code",
   "execution_count": 4,
   "metadata": {},
   "outputs": [
    {
     "name": "stdout",
     "output_type": "stream",
     "text": [
      "Requirement already satisfied: numpy in /Users/banshihan/miniconda3/envs/pycourse/lib/python3.8/site-packages (1.24.3)\n"
     ]
    }
   ],
   "source": [
    "!python3 -m venv .venv\n",
    "!source .venv/bin/activate      # (Windows PowerShell: .\\.venv\\Scripts\\Activate.ps1)\n",
    "!pip install numpy\n"
   ]
  },
  {
   "cell_type": "code",
   "execution_count": 6,
   "metadata": {},
   "outputs": [
    {
     "name": "stdout",
     "output_type": "stream",
     "text": [
      "Collecting jax\n",
      "  Downloading jax-0.4.13.tar.gz (1.3 MB)\n",
      "\u001b[2K     \u001b[90m━━━━━━━━━━━━━━━━━━━━━━━━━━━━━━━━━━━━━━━━\u001b[0m \u001b[32m1.3/1.3 MB\u001b[0m \u001b[31m1.8 MB/s\u001b[0m eta \u001b[36m0:00:00\u001b[0ma \u001b[36m0:00:01\u001b[0m\n",
      "\u001b[?25h  Installing build dependencies ... \u001b[?25ldone\n",
      "\u001b[?25h  Getting requirements to build wheel ... \u001b[?25ldone\n",
      "\u001b[?25h  Preparing metadata (pyproject.toml) ... \u001b[?25ldone\n",
      "\u001b[?25hCollecting jaxlib\n",
      "  Downloading jaxlib-0.4.13-cp38-cp38-macosx_11_0_arm64.whl.metadata (2.1 kB)\n",
      "Collecting ml-dtypes>=0.1.0 (from jax)\n",
      "  Downloading ml_dtypes-0.2.0-cp38-cp38-macosx_10_9_universal2.whl.metadata (20 kB)\n",
      "Requirement already satisfied: numpy>=1.21 in /Users/banshihan/miniconda3/envs/pycourse/lib/python3.8/site-packages (from jax) (1.24.3)\n",
      "Requirement already satisfied: opt-einsum in /Users/banshihan/miniconda3/envs/pycourse/lib/python3.8/site-packages (from jax) (3.3.0)\n",
      "Requirement already satisfied: scipy>=1.7 in /Users/banshihan/miniconda3/envs/pycourse/lib/python3.8/site-packages (from jax) (1.10.1)\n",
      "Requirement already satisfied: importlib-metadata>=4.6 in /Users/banshihan/miniconda3/envs/pycourse/lib/python3.8/site-packages (from jax) (6.8.0)\n",
      "Requirement already satisfied: zipp>=0.5 in /Users/banshihan/miniconda3/envs/pycourse/lib/python3.8/site-packages (from importlib-metadata>=4.6->jax) (3.11.0)\n",
      "Downloading jaxlib-0.4.13-cp38-cp38-macosx_11_0_arm64.whl (60.5 MB)\n",
      "\u001b[2K   \u001b[90m━━━━━━━━━━━━━━━━━━━━━━━━━━━━━━━━━━━━━━━━\u001b[0m \u001b[32m60.5/60.5 MB\u001b[0m \u001b[31m2.7 MB/s\u001b[0m eta \u001b[36m0:00:00\u001b[0m00:01\u001b[0m00:01\u001b[0m\n",
      "\u001b[?25hDownloading ml_dtypes-0.2.0-cp38-cp38-macosx_10_9_universal2.whl (1.2 MB)\n",
      "\u001b[2K   \u001b[90m━━━━━━━━━━━━━━━━━━━━━━━━━━━━━━━━━━━━━━━━\u001b[0m \u001b[32m1.2/1.2 MB\u001b[0m \u001b[31m4.5 MB/s\u001b[0m eta \u001b[36m0:00:00\u001b[0ma \u001b[36m0:00:01\u001b[0m\n",
      "\u001b[?25hBuilding wheels for collected packages: jax\n",
      "  Building wheel for jax (pyproject.toml) ... \u001b[?25ldone\n",
      "\u001b[?25h  Created wheel for jax: filename=jax-0.4.13-py3-none-any.whl size=1518704 sha256=dbbf3d3b2dbd69848959967f299880ebf4e58e8b674b4b5c360ba5b778de3c51\n",
      "  Stored in directory: /Users/banshihan/Library/Caches/pip/wheels/46/d9/15/d2800d4089dc4c77299ac7513c6aa1036f5491edbd2bf6ba16\n",
      "Successfully built jax\n",
      "Installing collected packages: ml-dtypes, jaxlib, jax\n",
      "Successfully installed jax-0.4.13 jaxlib-0.4.13 ml-dtypes-0.2.0\n",
      "Note: you may need to restart the kernel to use updated packages.\n"
     ]
    }
   ],
   "source": [
    "pip install -U jax jaxlib\n"
   ]
  },
  {
   "cell_type": "code",
   "execution_count": 7,
   "metadata": {},
   "outputs": [
    {
     "name": "stdout",
     "output_type": "stream",
     "text": [
      "Collecting flax\n",
      "  Downloading flax-0.7.2-py3-none-any.whl.metadata (10.0 kB)\n",
      "Requirement already satisfied: numpy>=1.12 in /Users/banshihan/miniconda3/envs/pycourse/lib/python3.8/site-packages (from flax) (1.24.3)\n",
      "Requirement already satisfied: jax>=0.4.2 in /Users/banshihan/miniconda3/envs/pycourse/lib/python3.8/site-packages (from flax) (0.4.13)\n",
      "Collecting msgpack (from flax)\n",
      "  Downloading msgpack-1.1.0.tar.gz (167 kB)\n",
      "  Installing build dependencies ... \u001b[?25ldone\n",
      "\u001b[?25h  Getting requirements to build wheel ... \u001b[?25ldone\n",
      "\u001b[?25h  Preparing metadata (pyproject.toml) ... \u001b[?25ldone\n",
      "\u001b[?25hCollecting optax (from flax)\n",
      "  Downloading optax-0.1.8-py3-none-any.whl.metadata (14 kB)\n",
      "Collecting orbax-checkpoint (from flax)\n",
      "  Downloading orbax_checkpoint-0.2.3-py3-none-any.whl.metadata (1.8 kB)\n",
      "Collecting tensorstore (from flax)\n",
      "  Downloading tensorstore-0.1.45-cp38-cp38-macosx_11_0_arm64.whl.metadata (2.9 kB)\n",
      "Collecting rich>=11.1 (from flax)\n",
      "  Downloading rich-14.0.0-py3-none-any.whl.metadata (18 kB)\n",
      "Requirement already satisfied: typing-extensions>=4.1.1 in /Users/banshihan/miniconda3/envs/pycourse/lib/python3.8/site-packages (from flax) (4.11.0)\n",
      "Requirement already satisfied: PyYAML>=5.4.1 in /Users/banshihan/miniconda3/envs/pycourse/lib/python3.8/site-packages (from flax) (6.0.1)\n",
      "Requirement already satisfied: ml-dtypes>=0.1.0 in /Users/banshihan/miniconda3/envs/pycourse/lib/python3.8/site-packages (from jax>=0.4.2->flax) (0.2.0)\n",
      "Requirement already satisfied: opt-einsum in /Users/banshihan/miniconda3/envs/pycourse/lib/python3.8/site-packages (from jax>=0.4.2->flax) (3.3.0)\n",
      "Requirement already satisfied: scipy>=1.7 in /Users/banshihan/miniconda3/envs/pycourse/lib/python3.8/site-packages (from jax>=0.4.2->flax) (1.10.1)\n",
      "Requirement already satisfied: importlib-metadata>=4.6 in /Users/banshihan/miniconda3/envs/pycourse/lib/python3.8/site-packages (from jax>=0.4.2->flax) (6.8.0)\n",
      "Collecting markdown-it-py>=2.2.0 (from rich>=11.1->flax)\n",
      "  Downloading markdown_it_py-3.0.0-py3-none-any.whl.metadata (6.9 kB)\n",
      "Requirement already satisfied: pygments<3.0.0,>=2.13.0 in /Users/banshihan/miniconda3/envs/pycourse/lib/python3.8/site-packages (from rich>=11.1->flax) (2.15.1)\n",
      "Requirement already satisfied: absl-py>=0.7.1 in /Users/banshihan/miniconda3/envs/pycourse/lib/python3.8/site-packages (from optax->flax) (2.1.0)\n",
      "Collecting chex>=0.1.7 (from optax->flax)\n",
      "  Downloading chex-0.1.7-py3-none-any.whl.metadata (17 kB)\n",
      "Requirement already satisfied: jaxlib>=0.1.37 in /Users/banshihan/miniconda3/envs/pycourse/lib/python3.8/site-packages (from optax->flax) (0.4.13)\n",
      "Collecting cached_property (from orbax-checkpoint->flax)\n",
      "  Downloading cached_property-2.0.1-py3-none-any.whl.metadata (10 kB)\n",
      "Requirement already satisfied: importlib_resources in /Users/banshihan/miniconda3/envs/pycourse/lib/python3.8/site-packages (from orbax-checkpoint->flax) (5.2.0)\n",
      "Collecting etils (from orbax-checkpoint->flax)\n",
      "  Downloading etils-1.3.0-py3-none-any.whl.metadata (5.5 kB)\n",
      "Requirement already satisfied: nest_asyncio in /Users/banshihan/miniconda3/envs/pycourse/lib/python3.8/site-packages (from orbax-checkpoint->flax) (1.5.6)\n",
      "Collecting dm-tree>=0.1.5 (from chex>=0.1.7->optax->flax)\n",
      "  Downloading dm_tree-0.1.8-cp38-cp38-macosx_11_0_arm64.whl.metadata (1.9 kB)\n",
      "Collecting toolz>=0.9.0 (from chex>=0.1.7->optax->flax)\n",
      "  Downloading toolz-1.0.0-py3-none-any.whl.metadata (5.1 kB)\n",
      "Requirement already satisfied: zipp>=0.5 in /Users/banshihan/miniconda3/envs/pycourse/lib/python3.8/site-packages (from importlib-metadata>=4.6->jax>=0.4.2->flax) (3.11.0)\n",
      "Collecting mdurl~=0.1 (from markdown-it-py>=2.2.0->rich>=11.1->flax)\n",
      "  Downloading mdurl-0.1.2-py3-none-any.whl.metadata (1.6 kB)\n",
      "Downloading flax-0.7.2-py3-none-any.whl (226 kB)\n",
      "Downloading rich-14.0.0-py3-none-any.whl (243 kB)\n",
      "Downloading optax-0.1.8-py3-none-any.whl (199 kB)\n",
      "Downloading orbax_checkpoint-0.2.3-py3-none-any.whl (81 kB)\n",
      "Downloading tensorstore-0.1.45-cp38-cp38-macosx_11_0_arm64.whl (12.4 MB)\n",
      "\u001b[2K   \u001b[90m━━━━━━━━━━━━━━━━━━━━━━━━━━━━━━━━━━━━━━━━\u001b[0m \u001b[32m12.4/12.4 MB\u001b[0m \u001b[31m2.9 MB/s\u001b[0m eta \u001b[36m0:00:00\u001b[0ma \u001b[36m0:00:01\u001b[0mm\n",
      "\u001b[?25hDownloading chex-0.1.7-py3-none-any.whl (89 kB)\n",
      "Downloading markdown_it_py-3.0.0-py3-none-any.whl (87 kB)\n",
      "Downloading cached_property-2.0.1-py3-none-any.whl (7.4 kB)\n",
      "Downloading etils-1.3.0-py3-none-any.whl (126 kB)\n",
      "Downloading dm_tree-0.1.8-cp38-cp38-macosx_11_0_arm64.whl (110 kB)\n",
      "Downloading mdurl-0.1.2-py3-none-any.whl (10.0 kB)\n",
      "Downloading toolz-1.0.0-py3-none-any.whl (56 kB)\n",
      "Building wheels for collected packages: msgpack\n",
      "  Building wheel for msgpack (pyproject.toml) ... \u001b[?25ldone\n",
      "\u001b[?25h  Created wheel for msgpack: filename=msgpack-1.1.0-cp38-cp38-macosx_11_0_arm64.whl size=83182 sha256=9112e7a38080ae0a7a091a1b5f45fd30e3db31545714ee284be90eb489cdab0a\n",
      "  Stored in directory: /Users/banshihan/Library/Caches/pip/wheels/55/aa/93/797450f0b3d3ac6906a2a32306efbb304940a5a8eb5bdff767\n",
      "Successfully built msgpack\n",
      "Installing collected packages: dm-tree, toolz, tensorstore, msgpack, mdurl, etils, cached_property, markdown-it-py, rich, orbax-checkpoint, chex, optax, flax\n",
      "Successfully installed cached_property-2.0.1 chex-0.1.7 dm-tree-0.1.8 etils-1.3.0 flax-0.7.2 markdown-it-py-3.0.0 mdurl-0.1.2 msgpack-1.1.0 optax-0.1.8 orbax-checkpoint-0.2.3 rich-14.0.0 tensorstore-0.1.45 toolz-1.0.0\n",
      "Note: you may need to restart the kernel to use updated packages.\n"
     ]
    }
   ],
   "source": [
    "pip install flax\n"
   ]
  },
  {
   "cell_type": "code",
   "execution_count": 1,
   "metadata": {},
   "outputs": [
    {
     "ename": "ModuleNotFoundError",
     "evalue": "No module named 'utils'",
     "output_type": "error",
     "traceback": [
      "\u001b[0;31m---------------------------------------------------------------------------\u001b[0m",
      "\u001b[0;31mModuleNotFoundError\u001b[0m                       Traceback (most recent call last)",
      "Cell \u001b[0;32mIn[1], line 1\u001b[0m\n\u001b[0;32m----> 1\u001b[0m \u001b[38;5;28;01mfrom\u001b[39;00m \u001b[38;5;21;01mdatasets\u001b[39;00m \u001b[38;5;28;01mimport\u001b[39;00m linear_gaussian, sigmoid_gaussian, sphere_gaussian\n\u001b[1;32m      2\u001b[0m \u001b[38;5;28;01mimport\u001b[39;00m \u001b[38;5;21;01mnumpy\u001b[39;00m \u001b[38;5;28;01mas\u001b[39;00m \u001b[38;5;21;01mnp\u001b[39;00m\n\u001b[1;32m      4\u001b[0m \u001b[38;5;66;03m# 示例：生成 linear_gaussian\u001b[39;00m\n",
      "File \u001b[0;32m~/Documents/GitHub/homework-3-ShihanBan/Diffusion-model-low-dimensional-data/datasets.py:8\u001b[0m\n\u001b[1;32m      6\u001b[0m \u001b[38;5;28;01mimport\u001b[39;00m \u001b[38;5;21;01mpickle\u001b[39;00m \u001b[38;5;28;01mas\u001b[39;00m \u001b[38;5;21;01mpkl\u001b[39;00m\n\u001b[1;32m      7\u001b[0m \u001b[38;5;28;01mimport\u001b[39;00m \u001b[38;5;21;01mmatplotlib\u001b[39;00m\u001b[38;5;21;01m.\u001b[39;00m\u001b[38;5;21;01mpyplot\u001b[39;00m \u001b[38;5;28;01mas\u001b[39;00m \u001b[38;5;21;01mplt\u001b[39;00m\n\u001b[0;32m----> 8\u001b[0m \u001b[38;5;28;01mfrom\u001b[39;00m \u001b[38;5;21;01mnetworks\u001b[39;00m \u001b[38;5;28;01mimport\u001b[39;00m FullyConnectedNetwork\n\u001b[1;32m      9\u001b[0m \u001b[38;5;28;01mfrom\u001b[39;00m \u001b[38;5;21;01mjax\u001b[39;00m\u001b[38;5;21;01m.\u001b[39;00m\u001b[38;5;21;01mnn\u001b[39;00m\u001b[38;5;21;01m.\u001b[39;00m\u001b[38;5;21;01minitializers\u001b[39;00m \u001b[38;5;28;01mimport\u001b[39;00m normal\n\u001b[1;32m     12\u001b[0m \u001b[38;5;28;01mclass\u001b[39;00m \u001b[38;5;21;01mDataset\u001b[39;00m(ABC):\n",
      "File \u001b[0;32m~/Documents/GitHub/homework-3-ShihanBan/Diffusion-model-low-dimensional-data/networks.py:9\u001b[0m\n\u001b[1;32m      6\u001b[0m \u001b[38;5;28;01mfrom\u001b[39;00m \u001b[38;5;21;01mfunctools\u001b[39;00m \u001b[38;5;28;01mimport\u001b[39;00m partial\n\u001b[1;32m      7\u001b[0m \u001b[38;5;28;01mfrom\u001b[39;00m \u001b[38;5;21;01mjax\u001b[39;00m \u001b[38;5;28;01mimport\u001b[39;00m random\n\u001b[0;32m----> 9\u001b[0m \u001b[38;5;28;01mfrom\u001b[39;00m \u001b[38;5;21;01mutils\u001b[39;00m \u001b[38;5;28;01mimport\u001b[39;00m cross_entropy_loss, Constants, leaky_relu, inv_leaky_relu, inv_dense, InvertibleBatchNorm\n\u001b[1;32m     10\u001b[0m \u001b[38;5;28;01mfrom\u001b[39;00m \u001b[38;5;21;01mutils\u001b[39;00m \u001b[38;5;28;01mimport\u001b[39;00m relu, get_mask, squeeze_2x2\n\u001b[1;32m     11\u001b[0m \u001b[38;5;28;01mfrom\u001b[39;00m \u001b[38;5;21;01mutils\u001b[39;00m \u001b[38;5;28;01mimport\u001b[39;00m inv_batch_norm\n",
      "\u001b[0;31mModuleNotFoundError\u001b[0m: No module named 'utils'"
     ]
    }
   ],
   "source": [
    "from datasets import linear_gaussian, sigmoid_gaussian, sphere_gaussian\n",
    "import numpy as np\n",
    "\n",
    "# 示例：生成 linear_gaussian\n",
    "x_lin, z_lin = linear_gaussian(\n",
    "    num_samples=100000,  # --num_batches 100000\n",
    "    latent_dim=20,       # --latent_dim 20\n",
    "    padding_dim=9,       # --padding_dim 9\n",
    "    dd=3,                # -dd 3\n",
    "    ds=2,                # -ds 2\n",
    "    seed=0\n",
    ")\n",
    "np.save(\"linear_gaussian_x.npy\", x_lin)\n",
    "np.save(\"linear_gaussian_z.npy\", z_lin)\n",
    "\n",
    "# 同理再生成 sigmoid 和 sphere：\n",
    "x_sig, z_sig = sigmoid_gaussian(100000, 20, 9, 3, 2, seed=0)\n",
    "np.save(\"sigmoid_gaussian_x.npy\", x_sig)\n",
    "np.save(\"sigmoid_gaussian_z.npy\", z_sig)\n",
    "\n",
    "x_sph, z_sph = sphere_gaussian(100000, 20, 9, 3, 2, seed=0)\n",
    "np.save(\"sphere_gaussian_x.npy\", x_sph)\n",
    "np.save(\"sphere_gaussian_z.npy\", z_sph)\n"
   ]
  }
 ],
 "metadata": {
  "kernelspec": {
   "display_name": "Python (pycourse)",
   "language": "python",
   "name": "pycourse"
  },
  "language_info": {
   "codemirror_mode": {
    "name": "ipython",
    "version": 3
   },
   "file_extension": ".py",
   "mimetype": "text/x-python",
   "name": "python",
   "nbconvert_exporter": "python",
   "pygments_lexer": "ipython3",
   "version": "3.8.18"
  }
 },
 "nbformat": 4,
 "nbformat_minor": 2
}
