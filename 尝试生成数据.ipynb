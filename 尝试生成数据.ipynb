{
 "cells": [
  {
   "cell_type": "code",
   "execution_count": null,
   "id": "e3e26c0f",
   "metadata": {},
   "outputs": [],
   "source": [
    "import jax.random as random\n",
    "from your_module.datasets import LinearGaussianDataset  # 请按实际路径调整\n",
    "import numpy as np\n"
   ]
  },
  {
   "cell_type": "code",
   "execution_count": null,
   "id": "bb9fd134",
   "metadata": {},
   "outputs": [],
   "source": [
    "\n",
    "def generate_linear_gaussian(seed: int,\n",
    "                             intrinsic_dim: int,\n",
    "                             ambient_dim: int,\n",
    "                             noise_var: float = 0.0,\n",
    "                             n_samples: int = 20000):\n",
    "    \"\"\"\n",
    "    对应 run.py 中：\n",
    "      --dataset linear_gaussian\n",
    "      -dd <intrinsic_dim>      -> dimension\n",
    "      --padding_dim <pad_dim>   -> padding_dimension\n",
    "      --var_added <noise_var>   -> var_added\n",
    "\n",
    "    ambient_dim = intrinsic_dim + padding_dim\n",
    "    \"\"\"\n",
    "    padding_dim = ambient_dim - intrinsic_dim\n",
    "    ds = LinearGaussianDataset(seed=seed,\n",
    "                                dimension=intrinsic_dim,\n",
    "                                intrinsic_dimension=intrinsic_dim,\n",
    "                                padding_dimension=padding_dim,\n",
    "                                var_added=noise_var)\n",
    "    # get_batch 返回 shape = (n_samples, intrinsic_dim + padding_dim)\n",
    "    X = ds.get_batch(n_samples)\n",
    "    return np.array(X)\n",
    "\n",
    "if __name__ == \"__main__\":\n",
    "    # 对应论文中这几条命令的（seed=2）示例：\n",
    "    configs = [\n",
    "        # intrinsic=3, ambient=12\n",
    "        {\"seed\": 2,  \"intrinsic_dim\": 3,  \"ambient_dim\": 12},\n",
    "        # intrinsic=3, ambient=20\n",
    "        {\"seed\": 2,  \"intrinsic_dim\": 3,  \"ambient_dim\": 20},\n",
    "        # intrinsic=6, ambient=12\n",
    "        {\"seed\": 2,  \"intrinsic_dim\": 6,  \"ambient_dim\": 12},\n",
    "        # intrinsic=6, ambient=20\n",
    "        {\"seed\": 2,  \"intrinsic_dim\": 6,  \"ambient_dim\": 20},\n",
    "        # intrinsic=9, ambient=12\n",
    "        {\"seed\": 2,  \"intrinsic_dim\": 9,  \"ambient_dim\": 12},\n",
    "        # intrinsic=9, ambient=20\n",
    "        {\"seed\": 2,  \"intrinsic_dim\": 9,  \"ambient_dim\": 20},\n",
    "        # intrinsic=12, ambient=20\n",
    "        {\"seed\": 2,  \"intrinsic_dim\": 12, \"ambient_dim\": 20},\n",
    "    ]\n",
    "\n",
    "    for cfg in configs:\n",
    "        X = generate_linear_gaussian(seed=cfg[\"seed\"],\n",
    "                                     intrinsic_dim=cfg[\"intrinsic_dim\"],\n",
    "                                     ambient_dim=cfg[\"ambient_dim\"],\n",
    "                                     noise_var=0.0,        # 对应 var_added=0\n",
    "                                     n_samples=20000)\n",
    "        print(f\"Generated X with shape {X.shape}  \"\n",
    "              f\"(intrinsic={cfg['intrinsic_dim']}, ambient={cfg['ambient_dim']})\")\n"
   ]
  }
 ],
 "metadata": {
  "language_info": {
   "name": "python"
  }
 },
 "nbformat": 4,
 "nbformat_minor": 5
}
